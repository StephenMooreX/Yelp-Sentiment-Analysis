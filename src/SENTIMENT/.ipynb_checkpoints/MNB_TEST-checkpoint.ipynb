{
 "cells": [
  {
   "cell_type": "code",
   "execution_count": 4,
   "metadata": {},
   "outputs": [],
   "source": [
    "#import statements\n",
    "import pandas as pd\n",
    "import matplotlib.pyplot as plt\n",
    "import nltk\n",
    "from nltk.corpus import stopwords\n",
    "from sklearn.feature_extraction.text import CountVectorizer\n",
    "\n",
    "#display output directly below plotting commands inline\n",
    "%matplotlib inline"
   ]
  },
  {
   "cell_type": "code",
   "execution_count": 5,
   "metadata": {},
   "outputs": [],
   "source": [
    "#import review dataset using pandas, limit rows to 100,000\n",
    "reviews = pd.read_csv('../input files/yelp_review.csv', nrows= 100000)"
   ]
  },
  {
   "cell_type": "code",
   "execution_count": 6,
   "metadata": {},
   "outputs": [
    {
     "data": {
      "text/plain": [
       "(55986, 10)"
      ]
     },
     "execution_count": 6,
     "metadata": {},
     "output_type": "execute_result"
    }
   ],
   "source": [
    "#create a text length column at end of data set\n",
    "reviews['text length'] = reviews['text'].apply(len)\n",
    "\n",
    "#limit reviews to either 1 or 5 stars\n",
    "review_class = reviews[(reviews['stars'] == 1) | (reviews['stars'] == 5)]\n",
    "review_class.shape"
   ]
  },
  {
   "cell_type": "code",
   "execution_count": 7,
   "metadata": {},
   "outputs": [],
   "source": [
    "#create variables for review text and rating\n",
    "X = review_class['text']\n",
    "y = review_class['stars']\n",
    "\n",
    "import string\n",
    "\n",
    "#Global stopwords to save processing power\n",
    "stoplist = stopwords.words('english')\n",
    "\n",
    "#text tokenizer\n",
    "def text_processor(text):\n",
    "    nopunc = [char for char in text if char not in string.punctuation]\n",
    "    nopunc = ''.join(nopunc)\n",
    "    return [word for word in nopunc.split() if word.lower() not in stoplist and not word.isdigit()]"
   ]
  },
  {
   "cell_type": "code",
   "execution_count": 8,
   "metadata": {},
   "outputs": [
    {
     "data": {
      "text/plain": [
       "101927"
      ]
     },
     "execution_count": 8,
     "metadata": {},
     "output_type": "execute_result"
    }
   ],
   "source": [
    "#vectorize the review text\n",
    "text_vector = CountVectorizer(analyzer=text_processor).fit(X)\n",
    "\n",
    "#determine length\n",
    "len(text_vector.vocabulary_)"
   ]
  },
  {
   "cell_type": "code",
   "execution_count": 9,
   "metadata": {},
   "outputs": [],
   "source": [
    "#transform X\n",
    "X = text_vector.transform(X)"
   ]
  },
  {
   "cell_type": "code",
   "execution_count": 10,
   "metadata": {},
   "outputs": [],
   "source": [
    "#creation and splitting of training and testing models\n",
    "from sklearn.model_selection import train_test_split\n",
    "\n",
    "X_train, X_test, y_train, y_test = train_test_split(X, y, test_size=0.2, random_state=101)"
   ]
  },
  {
   "cell_type": "code",
   "execution_count": 11,
   "metadata": {},
   "outputs": [
    {
     "data": {
      "text/plain": [
       "MultinomialNB(alpha=1.0, class_prior=None, fit_prior=True)"
      ]
     },
     "execution_count": 11,
     "metadata": {},
     "output_type": "execute_result"
    }
   ],
   "source": [
    "#import and train multinominal naive bayes model\n",
    "from sklearn.naive_bayes import MultinomialNB\n",
    "\n",
    "mnb = MultinomialNB()\n",
    "mnb.fit(X_train, y_train)"
   ]
  },
  {
   "cell_type": "code",
   "execution_count": 34,
   "metadata": {},
   "outputs": [
    {
     "name": "stdout",
     "output_type": "stream",
     "text": [
      "Here`s a run of the mill positive review, they seem elated to have eaten here:\n",
      "\n",
      "\n"
     ]
    },
    {
     "data": {
      "text/plain": [
       "\"Small unassuming place that changes their menu every so often. Cool decor and vibe inside their 30 seat restaurant. Call for a reservation. \\n\\nWe had their beef tartar and pork belly to start and a salmon dish and lamb meal for mains. Everything was incredible! I could go on at length about how all the listed ingredients really make their dishes amazing but honestly you just need to go. \\n\\nA bit outside of downtown montreal but take the metro out and it's less than a 10 minute walk from the station.\""
      ]
     },
     "execution_count": 34,
     "metadata": {},
     "output_type": "execute_result"
    }
   ],
   "source": [
    "print('Here`s a run of the mill positive review, they seem elated to have eaten here:')\n",
    "print('\\n')\n",
    "\n",
    "#locate a positive review\n",
    "positive_review = review_class['text'][1]\n",
    "positive_review"
   ]
  },
  {
   "cell_type": "code",
   "execution_count": 19,
   "metadata": {},
   "outputs": [
    {
     "name": "stdout",
     "output_type": "stream",
     "text": [
      "Predicted Star Rating:\n"
     ]
    },
    {
     "data": {
      "text/plain": [
       "5"
      ]
     },
     "execution_count": 19,
     "metadata": {},
     "output_type": "execute_result"
    }
   ],
   "source": [
    "#vectorize and predict the star rating of the positive review\n",
    "positive_review_transformed = text_vector.transform([positive_review])\n",
    "\n",
    "print('Predicted Star Rating:')\n",
    "mnb.predict(positive_review_transformed)[0]"
   ]
  },
  {
   "cell_type": "code",
   "execution_count": 32,
   "metadata": {},
   "outputs": [
    {
     "name": "stdout",
     "output_type": "stream",
     "text": [
      "Here`s is an upset karaoke goer:\n",
      "\n",
      "\n"
     ]
    },
    {
     "data": {
      "text/plain": [
       "'You didn\\'t hear it through the grapevine...you heard it straight from the horses mouth. DO NOT GO HERE FOR KARAOKE. Go for people watching if anything. I should\\'ve known when I called ahead. The sweet girl on the phone gave us directions. All of my friends were adamant about other places and I was rooting for the nice bartender and the possibility of a song.\\n\\nWhen we arrived the place was packed! Yet she still knew I was the one who called (very Children of the Corn). I immediately (at 8:15) put 2 songs in. I said you can just pick one if it fits your line-up. Hoping they\\'d call me and then one of the 4 people I strung along would add a song in.\\n\\nThis did not happen. \\n\\nWhile we each had 3-4 drinks (and 14 songs played), yes, I counted them. Not one persons name was EVER called. It was like a 2-disc CD was playing and they already knew who was next. \\n\\nIf you are new and you are going here to sing. Wait to be disappointed. It\\'s so weird. Not like a cool dive bar weird, but like a scripted twilight zone that you will never be a part of weird. \\n\\nThis bar doesn\\'t need you. They have a following that will always be there. Lesbian softball chicks, older divorcees, old country dudes, and those women who debated on wearing their scrunchees, that dude with dreads that sings the lamest song from the 50s soda shop...amongst others. \\n\\nAnd you will still wait. But the CRAZIEST thing is that a name will never be called out. It\\'s like a 3-disc set is playing. Before you know it someone else has the mic in their hand, because it\\'s \"their turn\". \\n\\nI heard a woman singing Jeff Buckleys \"hallelujah\", which isn\\'t a very popular song. But once I saw every demographic in the place singing it word for word, I knew. This wasn\\'t a place to be reckoned with. You don\\'t see a 60 year old man singing that song, unless they sing it so much you learn it! And that\\'s what happens. It\\'s a CD on rotation.\\n\\nAND YOU DONT PLAY A PART. Go somewhere else.\\n\\n14 songs, and you\\'re not going to get called. \\n\\nMy friend said to me jokingly, \"go sit on Santas lap and ask for your song.\" Not that I would have. But it was humorous. \\n\\nRegardless of naught or nice, Santa will only play that song if he knows you\\'ve been coming there for years. Less work. Lazy DJ. \\n\\nBut they don\\'t need you, so don\\'t go.'"
      ]
     },
     "execution_count": 32,
     "metadata": {},
     "output_type": "execute_result"
    }
   ],
   "source": [
    "print('Here`s is an upset karaoke goer:')\n",
    "print('\\n')\n",
    "\n",
    "#locate a negative review\n",
    "negative_review = review_class['text'][36000]\n",
    "negative_review"
   ]
  },
  {
   "cell_type": "code",
   "execution_count": 26,
   "metadata": {},
   "outputs": [
    {
     "name": "stdout",
     "output_type": "stream",
     "text": [
      "Predicted Star Rating:\n"
     ]
    },
    {
     "data": {
      "text/plain": [
       "1"
      ]
     },
     "execution_count": 26,
     "metadata": {},
     "output_type": "execute_result"
    }
   ],
   "source": [
    "#vectorize and predict the star rating of the negtive review\n",
    "negative_review_transformed = text_vector.transform([negative_review])\n",
    "\n",
    "print('Predicted Star Rating:')\n",
    "mnb.predict(negative_review_transformed)[0]"
   ]
  }
 ],
 "metadata": {
  "kernelspec": {
   "display_name": "Python 3",
   "language": "python",
   "name": "python3"
  },
  "language_info": {
   "codemirror_mode": {
    "name": "ipython",
    "version": 3
   },
   "file_extension": ".py",
   "mimetype": "text/x-python",
   "name": "python",
   "nbconvert_exporter": "python",
   "pygments_lexer": "ipython3",
   "version": "3.7.6"
  }
 },
 "nbformat": 4,
 "nbformat_minor": 4
}
