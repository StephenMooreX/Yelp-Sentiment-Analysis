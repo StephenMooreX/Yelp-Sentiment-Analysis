{
 "cells": [
  {
   "cell_type": "code",
   "execution_count": 13,
   "metadata": {},
   "outputs": [],
   "source": [
    "#import statements\n",
    "import pandas as pd\n",
    "import matplotlib.pyplot as plt\n",
    "import nltk\n",
    "from nltk.corpus import stopwords\n",
    "from sklearn.feature_extraction.text import CountVectorizer\n",
    "\n",
    "#display output directly below plotting commands inline\n",
    "%matplotlib inline"
   ]
  },
  {
   "cell_type": "code",
   "execution_count": 14,
   "metadata": {},
   "outputs": [],
   "source": [
    "#import review dataset using pandas, limit rows to 100,000\n",
    "reviews = pd.read_csv('../input files/yelp_review.csv', nrows= 100000)"
   ]
  },
  {
   "cell_type": "code",
   "execution_count": 15,
   "metadata": {},
   "outputs": [
    {
     "data": {
      "text/plain": [
       "(55986, 10)"
      ]
     },
     "execution_count": 15,
     "metadata": {},
     "output_type": "execute_result"
    }
   ],
   "source": [
    "#create a text length column at end of data set\n",
    "reviews['text length'] = reviews['text'].apply(len)\n",
    "\n",
    "#limit reviews to either 1 or 5 stars\n",
    "review_class = reviews[(reviews['stars'] == 1) | (reviews['stars'] == 5)]\n",
    "review_class.shape"
   ]
  },
  {
   "cell_type": "code",
   "execution_count": 16,
   "metadata": {},
   "outputs": [],
   "source": [
    "#create variables for review text and rating\n",
    "X = review_class['text']\n",
    "y = review_class['stars']\n",
    "\n",
    "import string\n",
    "\n",
    "#Global stopwords to save processing power\n",
    "stoplist = stopwords.words('english')\n",
    "\n",
    "#text tokenizer\n",
    "def text_processor(text):\n",
    "    nopunc = [char for char in text if char not in string.punctuation]\n",
    "    nopunc = ''.join(nopunc)\n",
    "    return [word for word in nopunc.split() if word.lower() not in stoplist and not word.isdigit()]"
   ]
  },
  {
   "cell_type": "code",
   "execution_count": 17,
   "metadata": {},
   "outputs": [
    {
     "data": {
      "text/plain": [
       "101927"
      ]
     },
     "execution_count": 17,
     "metadata": {},
     "output_type": "execute_result"
    }
   ],
   "source": [
    "#vectorize the review text\n",
    "text_vector = CountVectorizer(analyzer=text_processor).fit(X)\n",
    "\n",
    "#determine length\n",
    "len(text_vector.vocabulary_)"
   ]
  },
  {
   "cell_type": "code",
   "execution_count": 18,
   "metadata": {},
   "outputs": [],
   "source": [
    "#transform X\n",
    "X = text_vector.transform(X)"
   ]
  },
  {
   "cell_type": "code",
   "execution_count": 19,
   "metadata": {},
   "outputs": [],
   "source": [
    "#creation and splitting of training and testing models\n",
    "from sklearn.model_selection import train_test_split\n",
    "\n",
    "X_train, X_test, y_train, y_test = train_test_split(X, y, test_size=0.2, random_state=101)"
   ]
  },
  {
   "cell_type": "code",
   "execution_count": 20,
   "metadata": {},
   "outputs": [
    {
     "data": {
      "text/plain": [
       "MultinomialNB(alpha=1.0, class_prior=None, fit_prior=True)"
      ]
     },
     "execution_count": 20,
     "metadata": {},
     "output_type": "execute_result"
    }
   ],
   "source": [
    "#import and train multinominal naive bayes model\n",
    "from sklearn.naive_bayes import MultinomialNB\n",
    "\n",
    "mnb = MultinomialNB()\n",
    "mnb.fit(X_train, y_train)"
   ]
  },
  {
   "cell_type": "code",
   "execution_count": 21,
   "metadata": {},
   "outputs": [
    {
     "name": "stdout",
     "output_type": "stream",
     "text": [
      "Confusion Matrix\n",
      "[[2372  320]\n",
      " [ 377 8129]]\n",
      "\n",
      "\n",
      "Accuracy Report\n",
      "              precision    recall  f1-score   support\n",
      "\n",
      "           1       0.86      0.88      0.87      2692\n",
      "           5       0.96      0.96      0.96      8506\n",
      "\n",
      "    accuracy                           0.94     11198\n",
      "   macro avg       0.91      0.92      0.92     11198\n",
      "weighted avg       0.94      0.94      0.94     11198\n",
      "\n"
     ]
    }
   ],
   "source": [
    "#confusion matrix and report\n",
    "mnb_predict = mnb.predict(X_test)\n",
    "\n",
    "from sklearn.metrics import confusion_matrix, classification_report\n",
    "\n",
    "print('Confusion Matrix')\n",
    "print(confusion_matrix(y_test, mnb_predict))\n",
    "print('\\n')\n",
    "print('Accuracy Report')\n",
    "print(classification_report(y_test, mnb_predict))"
   ]
  },
  {
   "cell_type": "code",
   "execution_count": 22,
   "metadata": {},
   "outputs": [
    {
     "data": {
      "image/png": "[encoded data removed]",
      "text/plain": [
       "<Figure size 432x288 with 2 Axes>"
      ]
     },
     "metadata": {
      "needs_background": "light"
     },
     "output_type": "display_data"
    },
    {
     "data": {
      "image/png": "[encoded data removed]",
      "text/plain": [
       "<Figure size 432x288 with 2 Axes>"
      ]
     },
     "metadata": {
      "needs_background": "light"
     },
     "output_type": "display_data"
    }
   ],
   "source": [
    "#plot confusion matrix\n",
    "from sklearn.metrics import plot_confusion_matrix\n",
    "\n",
    "titles_options = [(\"Confusion matrix, without normalization\", None),\n",
    "                  (\"Normalized confusion matrix\", 'true')]\n",
    "for title, normalize in titles_options:\n",
    "    disp = plot_confusion_matrix(mnb, X_test, y_test,\n",
    "                                 cmap=plt.cm.Greens,\n",
    "                                 normalize=normalize)\n",
    "    disp.ax_.set_title(title)\n",
    "plt.show()"
   ]
  },
  {
   "cell_type": "code",
   "execution_count": 23,
   "metadata": {},
   "outputs": [
    {
     "name": "stdout",
     "output_type": "stream",
     "text": [
      "Output written to MNB.csv\n"
     ]
    }
   ],
   "source": [
    "#output report to a csv file in 'output files'\n",
    "reportDf = pd.DataFrame(classification_report(y_test, mnb_predict, output_dict=True)).transpose()\n",
    "\n",
    "reportDf.to_csv(r'../output files/MNB.csv', index = False)\n",
    "\n",
    "print('Output written to MNB.csv')"
   ]
  }
 ],
 "metadata": {
  "kernelspec": {
   "display_name": "Python 3",
   "language": "python",
   "name": "python3"
  },
  "language_info": {
   "codemirror_mode": {
    "name": "ipython",
    "version": 3
   },
   "file_extension": ".py",
   "mimetype": "text/x-python",
   "name": "python",
   "nbconvert_exporter": "python",
   "pygments_lexer": "ipython3",
   "version": "3.7.6"
  }
 },
 "nbformat": 4,
 "nbformat_minor": 4
}
